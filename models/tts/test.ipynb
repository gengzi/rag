{
 "cells": [
  {
   "cell_type": "code",
   "execution_count": null,
   "id": "initial_id",
   "metadata": {
    "collapsed": true
   },
   "outputs": [],
   "source": [
    "import sys\n",
    "import tempfile\n",
    "import os\n",
    "import torch\n",
    "from zipvoice.bin.infer_zipvoice import main as base_infer\n",
    "from dataclasses import dataclass\n",
    "from typing import Generator\n",
    "\n",
    "@dataclass\n",
    "class StreamArgs:\n",
    "    model_name: str = \"zipvoice\"\n",
    "    model_dir: str = \"exp/zipvoice\"\n",
    "    checkpoint_name: str = \"iter-60000-avg-2.pt\"\n",
    "    device: str = \"cuda\" if torch.cuda.is_available() else \"cpu\"\n",
    "    num_steps: int = 8\n",
    "    speed: float = 1.0\n",
    "\n",
    "def stream_generate(\n",
    "    prompt_wav: str,\n",
    "    prompt_text: str,\n",
    "    text_segments: list,\n",
    "    args: StreamArgs\n",
    ") -> Generator[bytes, None, None]:\n",
    "    with tempfile.TemporaryDirectory() as tmp_dir:\n",
    "        for i, segment in enumerate(text_segments):\n",
    "            # 1. 生成单段 TSV 文件\n",
    "            tsv_path = os.path.join(tmp_dir, f\"segment_{i}.tsv\")\n",
    "            with open(tsv_path, \"w\", encoding=\"utf-8\") as f:\n",
    "                f.write(f\"seg_{i}\\t{prompt_text}\\t{prompt_wav}\\t{segment}\\n\")\n",
    "\n",
    "            # 2. 构造命令行参数列表（模拟命令行输入）\n",
    "            original_argv = sys.argv.copy()  # 保存原始命令行参数\n",
    "            sys.argv = [\n",
    "                \"infer_zipvoice.py\",  # 第一个参数固定为脚本名（无实际意义）\n",
    "                f\"--model-name={args.model_name}\",\n",
    "                f\"--model-dir={args.model_dir}\",\n",
    "                f\"--checkpoint-name={args.checkpoint_name}\",\n",
    "                f\"--device={args.device}\",\n",
    "                f\"--num-steps={args.num_steps}\",\n",
    "                f\"--speed={args.speed}\",\n",
    "                f\"--test-list={tsv_path}\",\n",
    "                f\"--res-dir={tmp_dir}\"\n",
    "            ]\n",
    "\n",
    "            # 3. 调用 main 函数（此时 argparse 会解析我们构造的 sys.argv）\n",
    "            base_infer()\n",
    "\n",
    "            # 4. 恢复原始 sys.argv，避免影响其他调用\n",
    "            sys.argv = original_argv\n",
    "\n",
    "            # 5. 读取并返回当前段音频\n",
    "            wav_path = os.path.join(tmp_dir, f\"seg_{i}.wav\")\n",
    "            with open(wav_path, \"rb\") as f:\n",
    "                yield f.read()"
   ]
  },
  {
   "metadata": {
    "ExecuteTime": {
     "end_time": "2025-10-28T03:22:05.033151Z",
     "start_time": "2025-10-28T03:22:05.029080Z"
    }
   },
   "cell_type": "code",
   "source": "",
   "id": "1c6cab13d20c96c4",
   "outputs": [
    {
     "ename": "SyntaxError",
     "evalue": "invalid syntax (1646824964.py, line 1)",
     "output_type": "error",
     "traceback": [
      "  \u001B[36mCell\u001B[39m\u001B[36m \u001B[39m\u001B[32mIn[1]\u001B[39m\u001B[32m, line 1\u001B[39m\n\u001B[31m    \u001B[39m\u001B[31mpython3 -m zipvoice.bin.infer_zipvoice \\\u001B[39m\n               ^\n\u001B[31mSyntaxError\u001B[39m\u001B[31m:\u001B[39m invalid syntax\n"
     ]
    }
   ],
   "execution_count": 1
  },
  {
   "metadata": {
    "ExecuteTime": {
     "end_time": "2025-10-28T03:35:33.858418Z",
     "start_time": "2025-10-28T03:35:33.854364Z"
    }
   },
   "cell_type": "code",
   "source": [
    "import sys\n",
    "sys.path.append(\"D:/work/tts/ZipVoice\")\n",
    "python3 -m zipvoice.bin.infer_zipvoice --help\n"
   ],
   "id": "f470ab13d1c5200",
   "outputs": [
    {
     "ename": "SyntaxError",
     "evalue": "invalid syntax (2781513357.py, line 3)",
     "output_type": "error",
     "traceback": [
      "  \u001B[36mCell\u001B[39m\u001B[36m \u001B[39m\u001B[32mIn[3]\u001B[39m\u001B[32m, line 3\u001B[39m\n\u001B[31m    \u001B[39m\u001B[31mpython3 -m zipvoice.bin.infer_zipvoice --help\u001B[39m\n               ^\n\u001B[31mSyntaxError\u001B[39m\u001B[31m:\u001B[39m invalid syntax\n"
     ]
    }
   ],
   "execution_count": 3
  },
  {
   "metadata": {
    "ExecuteTime": {
     "end_time": "2025-10-28T04:17:44.072492Z",
     "start_time": "2025-10-28T04:17:37.070294Z"
    }
   },
   "cell_type": "code",
   "source": [
    "from kittentts import KittenTTS\n",
    "m = KittenTTS(\"KittenML/kitten-tts-nano-0.2\")\n",
    "\n",
    "audio = m.generate('是的，前面提到的 Step-Audio 2 mini、Xiaomi-MiMo-Audio 等模型相对来说参数规模较', voice='expr-voice-2-f' )\n",
    "\n",
    "# available_voices : [  'expr-voice-2-m', 'expr-voice-2-f', 'expr-voice-3-m', 'expr-voice-3-f',  'expr-voice-4-m', 'expr-voice-4-f', 'expr-voice-5-m', 'expr-voice-5-f' ]\n",
    "\n",
    "# Save the audio\n",
    "import soundfile as sf\n",
    "sf.write('output.wav', audio, 24000)\n"
   ],
   "id": "3a535eca68b131db",
   "outputs": [],
   "execution_count": 6
  }
 ],
 "metadata": {
  "kernelspec": {
   "display_name": "Python 3",
   "language": "python",
   "name": "python3"
  },
  "language_info": {
   "codemirror_mode": {
    "name": "ipython",
    "version": 2
   },
   "file_extension": ".py",
   "mimetype": "text/x-python",
   "name": "python",
   "nbconvert_exporter": "python",
   "pygments_lexer": "ipython2",
   "version": "2.7.6"
  }
 },
 "nbformat": 4,
 "nbformat_minor": 5
}
